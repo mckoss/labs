{
 "cells": [
  {
   "cell_type": "markdown",
   "metadata": {},
   "source": [
    "# Probability of Rolling each 2-dice point among 4 dice\n",
    "\n",
    "- What is the probability of rolling any particular point value (from 2 to 12) for\n",
    "  any roll of 4 dice?\n",
    "  \n",
    "  \n",
    "Perhaps the most straightforward way to answer these questions is by exhaustive simulation\n",
    "of 4 dice rolls (which only require $6^4 = 1296$ rolls)."
   ]
  },
  {
   "cell_type": "code",
   "execution_count": 81,
   "metadata": {},
   "outputs": [],
   "source": [
    "from itertools import product"
   ]
  },
  {
   "cell_type": "code",
   "execution_count": 82,
   "metadata": {},
   "outputs": [
    {
     "data": {
      "text/plain": [
       "1296"
      ]
     },
     "execution_count": 82,
     "metadata": {},
     "output_type": "execute_result"
    }
   ],
   "source": [
    "dice = (1,2,3,4,5,6)\n",
    "all_rolls = list(product(dice, dice, dice, dice))\n",
    "len(all_rolls)"
   ]
  },
  {
   "cell_type": "code",
   "execution_count": 83,
   "metadata": {},
   "outputs": [],
   "source": [
    "def points(dice):\n",
    "    \"\"\" Return set of point values that can be derived from a given (a pair of dice)\n",
    "        in a roll of the dice.\n",
    "    \"\"\"\n",
    "    result = set()\n",
    "    num_dice = len(dice)\n",
    "    for first in range(num_dice):\n",
    "        for second in range(first+1, num_dice):\n",
    "            result.add(dice[first] + dice[second])\n",
    "            \n",
    "    return result"
   ]
  },
  {
   "cell_type": "code",
   "execution_count": 84,
   "metadata": {},
   "outputs": [],
   "source": [
    "all_points = [points(x) for x in all_rolls]"
   ]
  },
  {
   "cell_type": "code",
   "execution_count": 85,
   "metadata": {},
   "outputs": [],
   "source": [
    "def prob_point(p):\n",
    "    c = 0\n",
    "    for points in all_points:\n",
    "        if p in points:\n",
    "            c += 1\n",
    "    return c / len(all_points)"
   ]
  },
  {
   "cell_type": "code",
   "execution_count": 86,
   "metadata": {},
   "outputs": [
    {
     "name": "stdout",
     "output_type": "stream",
     "text": [
      " 2: 13.2%\n",
      " 3: 23.3%\n",
      " 4: 35.6%\n",
      " 5: 44.8%\n",
      " 6: 56.1%\n",
      " 7: 64.4%\n",
      " 8: 56.1%\n",
      " 9: 44.8%\n",
      "10: 35.6%\n",
      "11: 23.3%\n",
      "12: 13.2%\n"
     ]
    }
   ],
   "source": [
    "for p in range(2, 13):\n",
    "    print(f\"{p:2d}: {prob_point(p):.1%}\")"
   ]
  },
  {
   "cell_type": "markdown",
   "metadata": {},
   "source": [
    "# Markov Modeling\n",
    "\n",
    "Alternately, we can calculate the probabilities more directly by modeling\n",
    "dice rolls with Markov processes and assigning a state to the specific point\n",
    "value to be rolled.\n",
    "\n",
    "For example, to model rolling a $2$ from a pair of dice among a sequence of\n",
    "single-dice rolls a simple model need only consider when a $1$ is rolled, vs.\n",
    "all the other faces on a die.  There is one way to roll a $1$ and five ways\n",
    "of rolling another number.\n",
    "\n",
    "# Roll 2\n",
    "\n",
    "Looking for (1, 1)."
   ]
  },
  {
   "cell_type": "markdown",
   "metadata": {},
   "source": [
    "<img src=\"./images/roll-2.png\" width=\"200\">"
   ]
  },
  {
   "cell_type": "markdown",
   "metadata": {},
   "source": [
    "The state transitions can be modeled by a 3x3 array where the state-to-state\n",
    "probabilities for the transition from state $i$ to $j$ is $A_{ij}$."
   ]
  },
  {
   "cell_type": "code",
   "execution_count": 87,
   "metadata": {},
   "outputs": [
    {
     "data": {
      "text/html": [
       "<div>\n",
       "<style scoped>\n",
       "    .dataframe tbody tr th:only-of-type {\n",
       "        vertical-align: middle;\n",
       "    }\n",
       "\n",
       "    .dataframe tbody tr th {\n",
       "        vertical-align: top;\n",
       "    }\n",
       "\n",
       "    .dataframe thead th {\n",
       "        text-align: right;\n",
       "    }\n",
       "</style>\n",
       "<table border=\"1\" class=\"dataframe\">\n",
       "  <thead>\n",
       "    <tr style=\"text-align: right;\">\n",
       "      <th></th>\n",
       "      <th>0</th>\n",
       "      <th>1</th>\n",
       "      <th>2</th>\n",
       "    </tr>\n",
       "  </thead>\n",
       "  <tbody>\n",
       "    <tr>\n",
       "      <th>0</th>\n",
       "      <td>0.833333</td>\n",
       "      <td>0.000000</td>\n",
       "      <td>0</td>\n",
       "    </tr>\n",
       "    <tr>\n",
       "      <th>1</th>\n",
       "      <td>0.166667</td>\n",
       "      <td>0.833333</td>\n",
       "      <td>0</td>\n",
       "    </tr>\n",
       "    <tr>\n",
       "      <th>2</th>\n",
       "      <td>0.000000</td>\n",
       "      <td>0.166667</td>\n",
       "      <td>1</td>\n",
       "    </tr>\n",
       "  </tbody>\n",
       "</table>\n",
       "</div>"
      ],
      "text/plain": [
       "          0         1  2\n",
       "0  0.833333  0.000000  0\n",
       "1  0.166667  0.833333  0\n",
       "2  0.000000  0.166667  1"
      ]
     },
     "execution_count": 87,
     "metadata": {},
     "output_type": "execute_result"
    }
   ],
   "source": [
    "from pandas import DataFrame as df\n",
    "\n",
    "roll_2 = df(((5/6, 0, 0), (1/6, 5/6, 0), (0, 1/6, 1)))\n",
    "roll_2"
   ]
  },
  {
   "cell_type": "markdown",
   "metadata": {},
   "source": [
    "Multiplying a vector indicating the initial state, will result in the\n",
    "probabilities of each state after a single roll."
   ]
  },
  {
   "cell_type": "code",
   "execution_count": 88,
   "metadata": {},
   "outputs": [
    {
     "data": {
      "text/plain": [
       "0    0.833333\n",
       "1    0.166667\n",
       "2    0.000000\n",
       "dtype: float64"
      ]
     },
     "execution_count": 88,
     "metadata": {},
     "output_type": "execute_result"
    }
   ],
   "source": [
    "roll_2.dot((1, 0, 0))"
   ]
  },
  {
   "cell_type": "code",
   "execution_count": 89,
   "metadata": {},
   "outputs": [],
   "source": [
    "def matrix_power(m, n):\n",
    "    result = m\n",
    "    for _ in range(n-1):\n",
    "        result = result.dot(m)\n",
    "    return result"
   ]
  },
  {
   "cell_type": "code",
   "execution_count": 90,
   "metadata": {},
   "outputs": [
    {
     "data": {
      "text/html": [
       "<div>\n",
       "<style scoped>\n",
       "    .dataframe tbody tr th:only-of-type {\n",
       "        vertical-align: middle;\n",
       "    }\n",
       "\n",
       "    .dataframe tbody tr th {\n",
       "        vertical-align: top;\n",
       "    }\n",
       "\n",
       "    .dataframe thead th {\n",
       "        text-align: right;\n",
       "    }\n",
       "</style>\n",
       "<table border=\"1\" class=\"dataframe\">\n",
       "  <thead>\n",
       "    <tr style=\"text-align: right;\">\n",
       "      <th></th>\n",
       "      <th>0</th>\n",
       "      <th>1</th>\n",
       "      <th>2</th>\n",
       "    </tr>\n",
       "  </thead>\n",
       "  <tbody>\n",
       "    <tr>\n",
       "      <th>0</th>\n",
       "      <td>0.482253</td>\n",
       "      <td>0.000000</td>\n",
       "      <td>0.0</td>\n",
       "    </tr>\n",
       "    <tr>\n",
       "      <th>1</th>\n",
       "      <td>0.385802</td>\n",
       "      <td>0.482253</td>\n",
       "      <td>0.0</td>\n",
       "    </tr>\n",
       "    <tr>\n",
       "      <th>2</th>\n",
       "      <td>0.131944</td>\n",
       "      <td>0.517747</td>\n",
       "      <td>1.0</td>\n",
       "    </tr>\n",
       "  </tbody>\n",
       "</table>\n",
       "</div>"
      ],
      "text/plain": [
       "          0         1    2\n",
       "0  0.482253  0.000000  0.0\n",
       "1  0.385802  0.482253  0.0\n",
       "2  0.131944  0.517747  1.0"
      ]
     },
     "execution_count": 90,
     "metadata": {},
     "output_type": "execute_result"
    }
   ],
   "source": [
    "matrix_power(roll_2, 4)"
   ]
  },
  {
   "cell_type": "markdown",
   "metadata": {},
   "source": [
    "The probability of being in each state after 4 rolls of a die."
   ]
  },
  {
   "cell_type": "markdown",
   "metadata": {},
   "source": []
  },
  {
   "cell_type": "code",
   "execution_count": 91,
   "metadata": {},
   "outputs": [
    {
     "data": {
      "text/plain": [
       "0    0.482253\n",
       "1    0.385802\n",
       "2    0.131944\n",
       "dtype: float64"
      ]
     },
     "execution_count": 91,
     "metadata": {},
     "output_type": "execute_result"
    }
   ],
   "source": [
    "matrix_power(roll_2, 4).dot((1, 0, 0))"
   ]
  },
  {
   "cell_type": "markdown",
   "metadata": {},
   "source": [
    "So, the probability of rolling a $2$ with four dices is $0.131944$."
   ]
  },
  {
   "cell_type": "markdown",
   "metadata": {},
   "source": [
    "We can come up with similar models for each of the other points (3, 4, 5, 6,\n",
    "and 7) and note that by symmetry the points, $N$, above 7 are identical to the\n",
    "models for $14 - N$.\n",
    "\n",
    "# Roll 3\n",
    "\n",
    "Looking for (1, 2)."
   ]
  },
  {
   "cell_type": "markdown",
   "metadata": {},
   "source": [
    "<img src=\"./images/roll-3.png\" width=\"200\">"
   ]
  },
  {
   "cell_type": "code",
   "execution_count": 96,
   "metadata": {},
   "outputs": [
    {
     "name": "stdout",
     "output_type": "stream",
     "text": [
      "          0         1  2\n",
      "0  0.666667  0.000000  0\n",
      "1  0.333333  0.833333  0\n",
      "2  0.000000  0.166667  1\n",
      "0    0.197531\n",
      "1    0.569444\n",
      "2    0.233025\n",
      "dtype: float64\n"
     ]
    }
   ],
   "source": [
    "roll_3 = df(((4/6, 0, 0), (2/6, 5/6, 0), (0, 1/6, 1)))\n",
    "print(roll_3)\n",
    "print(matrix_power(roll_3, 4).dot((1, 0, 0)))"
   ]
  },
  {
   "cell_type": "markdown",
   "metadata": {},
   "source": [
    "# Roll 4\n",
    "\n",
    "Looking for (1, 3) or (2, 2).\n",
    "\n",
    "<img src=\"./images/roll-4.png\" width=\"300\">"
   ]
  },
  {
   "cell_type": "code",
   "execution_count": 93,
   "metadata": {},
   "outputs": [
    {
     "name": "stdout",
     "output_type": "stream",
     "text": [
      "          0         1         2         3  4\n",
      "0  0.500000  0.000000  0.000000  0.000000  0\n",
      "1  0.333333  0.666667  0.000000  0.000000  0\n",
      "2  0.166667  0.000000  0.500000  0.000000  0\n",
      "3  0.000000  0.166667  0.333333  0.666667  0\n",
      "4  0.000000  0.166667  0.166667  0.333333  1\n",
      "0    0.062500\n",
      "1    0.270062\n",
      "2    0.083333\n",
      "3    0.228395\n",
      "4    0.355710\n",
      "dtype: float64\n"
     ]
    }
   ],
   "source": [
    "roll_4 = df((\n",
    "    (3/6, 0, 0, 0, 0),\n",
    "    (2/6, 4/6, 0, 0, 0),\n",
    "    (1/6, 0, 3/6, 0, 0),\n",
    "    (0, 1/6, 2/6, 4/6, 0),\n",
    "    (0, 1/6, 1/6, 2/6, 1)))\n",
    "print(roll_4)\n",
    "print(matrix_power(roll_4, 4).dot((1, 0, 0, 0, 0)))"
   ]
  },
  {
   "cell_type": "markdown",
   "metadata": {},
   "source": [
    "# Roll 5\n",
    "\n",
    "Looking for (1, 4) or (2, 3).\n",
    "\n",
    "<img src=\"./images/roll-5.png\" width=\"300\">"
   ]
  },
  {
   "cell_type": "code",
   "execution_count": 94,
   "metadata": {},
   "outputs": [
    {
     "name": "stdout",
     "output_type": "stream",
     "text": [
      "          0         1         2  3\n",
      "0  0.333333  0.000000  0.000000  0\n",
      "1  0.666667  0.500000  0.000000  0\n",
      "2  0.000000  0.333333  0.666667  0\n",
      "3  0.000000  0.166667  0.333333  1\n",
      "0    0.012346\n",
      "1    0.200617\n",
      "2    0.339506\n",
      "3    0.447531\n",
      "dtype: float64\n"
     ]
    }
   ],
   "source": [
    "roll_5 = df((\n",
    "    (2/6, 0, 0, 0),\n",
    "    (4/6, 3/6, 0, 0),\n",
    "    (0, 2/6, 4/6, 0),\n",
    "    (0, 1/6, 2/6, 1))\n",
    ")\n",
    "print(roll_5)\n",
    "print(matrix_power(roll_5, 4).dot((1, 0, 0, 0)))"
   ]
  },
  {
   "cell_type": "markdown",
   "metadata": {},
   "source": [
    "# Roll 6\n",
    "\n",
    "Looking for (1, 5), (2, 4), or (3, 3).\n",
    "\n",
    "To simplify the model, we assign the symbol $a$ for the first of 1, 5, 2, or 4\n",
    "to be rolled.  Then $a'$ would represent $6 - a$; the value that would pair\n",
    "with $a$ to make $6$.\n",
    "\n",
    "Then, $b$ would represent whichever is the first of values from 1, 5, 2, or 4\n",
    "that are not $a$ or $a'$.  For example, if $a = 1$, then $b$ would be one of\n",
    "2 or 4.\n",
    "\n",
    "<img src=\"./images/roll-6.png\" width=\"400\">"
   ]
  },
  {
   "cell_type": "markdown",
   "metadata": {},
   "source": []
  },
  {
   "cell_type": "code",
   "execution_count": 102,
   "metadata": {},
   "outputs": [
    {
     "name": "stdout",
     "output_type": "stream",
     "text": [
      "          0         1         2         3         4    5    6\n",
      "0  0.166667  0.000000  0.000000  0.000000  0.000000  0.0  0.0\n",
      "1  0.666667  0.333333  0.000000  0.000000  0.000000  0.0  0.0\n",
      "2  0.166667  0.000000  0.166667  0.000000  0.000000  0.0  0.0\n",
      "3  0.000000  0.333333  0.000000  0.500000  0.000000  0.0  0.0\n",
      "4  0.000000  0.166667  0.666667  0.000000  0.333333  0.0  0.0\n",
      "5  0.000000  0.000000  0.000000  0.166667  0.333333  0.5  0.0\n",
      "6  0.000000  0.166667  0.166667  0.333333  0.333333  0.5  1.0\n",
      "0    0.000772\n",
      "1    0.046296\n",
      "2    0.003086\n",
      "3    0.154321\n",
      "4    0.086420\n",
      "5    0.148148\n",
      "6    0.560957\n",
      "dtype: float64\n"
     ]
    }
   ],
   "source": [
    "roll_6 = 1 / 6 * df((\n",
    "    (1, 0, 0, 0, 0, 0, 0),\n",
    "    (4, 2, 0, 0, 0, 0, 0),\n",
    "    (1, 0, 1, 0, 0, 0, 0),\n",
    "    (0, 2, 0, 3, 0, 0, 0),\n",
    "    (0, 1, 4, 0, 2, 0, 0),\n",
    "    (0, 0, 0, 1, 2, 3, 0),\n",
    "    (0, 1, 1, 2, 2, 3, 6)\n",
    "))\n",
    "print(roll_6)\n",
    "print(matrix_power(roll_6, 4).dot((1, 0, 0, 0, 0, 0, 0)))"
   ]
  },
  {
   "cell_type": "markdown",
   "metadata": {},
   "source": [
    "# Roll 7\n",
    "\n",
    "Looking for (1, 6), (2, 5), or (3, 4).\n",
    "\n",
    "To simplify the model, we assign the symbol $a$ for the first value rolled and\n",
    "then $a'$ would be it's paired value, $7 - a$.\n",
    "\n",
    "Similarly, the next two values from each of the subsequent pairs would be\n",
    "assigned to $b$ and $c$.\n",
    "\n",
    "As an example, if the sequence of 4 dice are (5, 6, 3, 1), we assign\n",
    "$a = 5$, $b = 6$, and $c = 3$\".\n",
    "\n",
    "<img src=\"./images/roll-7.png\" width=\"300\">"
   ]
  },
  {
   "cell_type": "code",
   "execution_count": 104,
   "metadata": {},
   "outputs": [
    {
     "name": "stdout",
     "output_type": "stream",
     "text": [
      "     0         1         2    3    4\n",
      "0  0.0  0.000000  0.000000  0.0  0.0\n",
      "1  1.0  0.166667  0.000000  0.0  0.0\n",
      "2  0.0  0.666667  0.333333  0.0  0.0\n",
      "3  0.0  0.000000  0.333333  0.5  0.0\n",
      "4  0.0  0.166667  0.333333  0.5  1.0\n",
      "0    0.000000\n",
      "1    0.004630\n",
      "2    0.129630\n",
      "3    0.222222\n",
      "4    0.643519\n",
      "dtype: float64\n"
     ]
    }
   ],
   "source": [
    "roll_7 = 1 / 6 * df((\n",
    "    (0, 0, 0, 0, 0),\n",
    "    (6, 1, 0, 0, 0),\n",
    "    (0, 4, 2, 0, 0),\n",
    "    (0, 0, 2, 3, 0),\n",
    "    (0, 1, 2, 3, 6),\n",
    "))\n",
    "print(roll_7)\n",
    "print(matrix_power(roll_7, 4).dot((1, 0, 0, 0, 0)))"
   ]
  },
  {
   "cell_type": "markdown",
   "metadata": {},
   "source": []
  }
 ],
 "metadata": {
  "kernelspec": {
   "display_name": "Python 3.8.9 ('.env': venv)",
   "language": "python",
   "name": "python3"
  },
  "language_info": {
   "codemirror_mode": {
    "name": "ipython",
    "version": 3
   },
   "file_extension": ".py",
   "mimetype": "text/x-python",
   "name": "python",
   "nbconvert_exporter": "python",
   "pygments_lexer": "ipython3",
   "version": "3.8.9"
  },
  "orig_nbformat": 4,
  "vscode": {
   "interpreter": {
    "hash": "c37b1629e471923b9801f7ad8b0b59ee231fda63ef3eb1be62e41f13dbcecc12"
   }
  }
 },
 "nbformat": 4,
 "nbformat_minor": 2
}

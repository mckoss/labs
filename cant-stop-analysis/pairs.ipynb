{
 "cells": [
  {
   "cell_type": "markdown",
   "metadata": {},
   "source": [
    "# Probability of Rolling each 2-dice point among 4 dice\n",
    "\n",
    "- What is the probability of rolling any particular point value (from 2 to 12) for\n",
    "  any roll of 4 dice?\n",
    "  \n",
    "  \n",
    "Perhaps the most straightforward way to answer these questions is by exhaustive simulation\n",
    "of 4 dice rolls (which only require $6^4 = 1296$ rolls)."
   ]
  },
  {
   "cell_type": "code",
   "execution_count": 44,
   "metadata": {},
   "outputs": [],
   "source": [
    "from itertools import product"
   ]
  },
  {
   "cell_type": "code",
   "execution_count": 45,
   "metadata": {},
   "outputs": [
    {
     "data": {
      "text/plain": [
       "1296"
      ]
     },
     "execution_count": 45,
     "metadata": {},
     "output_type": "execute_result"
    }
   ],
   "source": [
    "dice = (1,2,3,4,5,6)\n",
    "all_rolls = list(product(dice, dice, dice, dice))\n",
    "len(all_rolls)"
   ]
  },
  {
   "cell_type": "code",
   "execution_count": 46,
   "metadata": {},
   "outputs": [],
   "source": [
    "def points(dice):\n",
    "    \"\"\" Return set of point values that can be derived from a given (a pair of dice)\n",
    "        in a roll of the dice.\n",
    "    \"\"\"\n",
    "    result = set()\n",
    "    num_dice = len(dice)\n",
    "    for first in range(num_dice):\n",
    "        for second in range(first+1, num_dice):\n",
    "            result.add(dice[first] + dice[second])\n",
    "            \n",
    "    return result"
   ]
  },
  {
   "cell_type": "code",
   "execution_count": 47,
   "metadata": {},
   "outputs": [],
   "source": [
    "all_points = [points(x) for x in all_rolls]"
   ]
  },
  {
   "cell_type": "code",
   "execution_count": 48,
   "metadata": {},
   "outputs": [],
   "source": [
    "def prob_point(p):\n",
    "    c = 0\n",
    "    for points in all_points:\n",
    "        if p in points:\n",
    "            c += 1\n",
    "    return c / len(all_points)"
   ]
  },
  {
   "cell_type": "code",
   "execution_count": 49,
   "metadata": {},
   "outputs": [
    {
     "name": "stdout",
     "output_type": "stream",
     "text": [
      " 2: 13.2%\n",
      " 3: 23.3%\n",
      " 4: 35.6%\n",
      " 5: 44.8%\n",
      " 6: 56.1%\n",
      " 7: 64.4%\n",
      " 8: 56.1%\n",
      " 9: 44.8%\n",
      "10: 35.6%\n",
      "11: 23.3%\n",
      "12: 13.2%\n"
     ]
    }
   ],
   "source": [
    "for p in range(2, 13):\n",
    "    print(f\"{p:2d}: {prob_point(p):.1%}\")"
   ]
  },
  {
   "cell_type": "markdown",
   "metadata": {},
   "source": [
    "# Markov Modeling\n",
    "\n",
    "Alternately, we can calculate the probabilities more directly by modeling\n",
    "dice rolls with Markov processes and assigning a state to the specific point\n",
    "value to be rolled.\n",
    "\n",
    "For example, to model rolling a $2$ from a pair of dice among a sequence of\n",
    "single-dice rolls a simple model need only consider when a $1$ is rolled, vs.\n",
    "all the other faces on a die.  There is one way to roll a $1$ and five ways\n",
    "of rolling another number.\n",
    "\n",
    "# Roll 2\n",
    "\n",
    "Looking for (1, 1)."
   ]
  },
  {
   "cell_type": "markdown",
   "metadata": {},
   "source": [
    "<img src=\"./images/roll-2.png\" width=\"200\">"
   ]
  },
  {
   "cell_type": "markdown",
   "metadata": {},
   "source": [
    "The state transitions can be modeled by a 3x3 array where the state-to-state\n",
    "probabilities for the transition from state $i$ to $j$ is $A_{ij}$."
   ]
  },
  {
   "cell_type": "code",
   "execution_count": 50,
   "metadata": {},
   "outputs": [
    {
     "data": {
      "text/html": [
       "<div>\n",
       "<style scoped>\n",
       "    .dataframe tbody tr th:only-of-type {\n",
       "        vertical-align: middle;\n",
       "    }\n",
       "\n",
       "    .dataframe tbody tr th {\n",
       "        vertical-align: top;\n",
       "    }\n",
       "\n",
       "    .dataframe thead th {\n",
       "        text-align: right;\n",
       "    }\n",
       "</style>\n",
       "<table border=\"1\" class=\"dataframe\">\n",
       "  <thead>\n",
       "    <tr style=\"text-align: right;\">\n",
       "      <th></th>\n",
       "      <th>0</th>\n",
       "      <th>1</th>\n",
       "      <th>2</th>\n",
       "    </tr>\n",
       "  </thead>\n",
       "  <tbody>\n",
       "    <tr>\n",
       "      <th>0</th>\n",
       "      <td>0.833333</td>\n",
       "      <td>0.000000</td>\n",
       "      <td>0</td>\n",
       "    </tr>\n",
       "    <tr>\n",
       "      <th>1</th>\n",
       "      <td>0.166667</td>\n",
       "      <td>0.833333</td>\n",
       "      <td>0</td>\n",
       "    </tr>\n",
       "    <tr>\n",
       "      <th>2</th>\n",
       "      <td>0.000000</td>\n",
       "      <td>0.166667</td>\n",
       "      <td>1</td>\n",
       "    </tr>\n",
       "  </tbody>\n",
       "</table>\n",
       "</div>"
      ],
      "text/plain": [
       "          0         1  2\n",
       "0  0.833333  0.000000  0\n",
       "1  0.166667  0.833333  0\n",
       "2  0.000000  0.166667  1"
      ]
     },
     "execution_count": 50,
     "metadata": {},
     "output_type": "execute_result"
    }
   ],
   "source": [
    "from pandas import DataFrame as df\n",
    "\n",
    "roll_2 = df(((5/6, 0, 0), (1/6, 5/6, 0), (0, 1/6, 1)))\n",
    "roll_2"
   ]
  },
  {
   "cell_type": "code",
   "execution_count": 51,
   "metadata": {},
   "outputs": [
    {
     "data": {
      "text/html": [
       "<div>\n",
       "<style scoped>\n",
       "    .dataframe tbody tr th:only-of-type {\n",
       "        vertical-align: middle;\n",
       "    }\n",
       "\n",
       "    .dataframe tbody tr th {\n",
       "        vertical-align: top;\n",
       "    }\n",
       "\n",
       "    .dataframe thead th {\n",
       "        text-align: right;\n",
       "    }\n",
       "</style>\n",
       "<table border=\"1\" class=\"dataframe\">\n",
       "  <thead>\n",
       "    <tr style=\"text-align: right;\">\n",
       "      <th></th>\n",
       "      <th>0</th>\n",
       "    </tr>\n",
       "  </thead>\n",
       "  <tbody>\n",
       "    <tr>\n",
       "      <th>0</th>\n",
       "      <td>1</td>\n",
       "    </tr>\n",
       "    <tr>\n",
       "      <th>1</th>\n",
       "      <td>0</td>\n",
       "    </tr>\n",
       "    <tr>\n",
       "      <th>2</th>\n",
       "      <td>0</td>\n",
       "    </tr>\n",
       "  </tbody>\n",
       "</table>\n",
       "</div>"
      ],
      "text/plain": [
       "   0\n",
       "0  1\n",
       "1  0\n",
       "2  0"
      ]
     },
     "execution_count": 51,
     "metadata": {},
     "output_type": "execute_result"
    }
   ],
   "source": [
    "init = df(((1,), (0,), (0,)))\n",
    "init"
   ]
  },
  {
   "cell_type": "markdown",
   "metadata": {},
   "source": [
    "Multiplying a vector indicating the initial state, will result in the\n",
    "probabilities of each state after a single roll."
   ]
  },
  {
   "cell_type": "code",
   "execution_count": 52,
   "metadata": {},
   "outputs": [
    {
     "data": {
      "text/html": [
       "<div>\n",
       "<style scoped>\n",
       "    .dataframe tbody tr th:only-of-type {\n",
       "        vertical-align: middle;\n",
       "    }\n",
       "\n",
       "    .dataframe tbody tr th {\n",
       "        vertical-align: top;\n",
       "    }\n",
       "\n",
       "    .dataframe thead th {\n",
       "        text-align: right;\n",
       "    }\n",
       "</style>\n",
       "<table border=\"1\" class=\"dataframe\">\n",
       "  <thead>\n",
       "    <tr style=\"text-align: right;\">\n",
       "      <th></th>\n",
       "      <th>0</th>\n",
       "    </tr>\n",
       "  </thead>\n",
       "  <tbody>\n",
       "    <tr>\n",
       "      <th>0</th>\n",
       "      <td>0.833333</td>\n",
       "    </tr>\n",
       "    <tr>\n",
       "      <th>1</th>\n",
       "      <td>0.166667</td>\n",
       "    </tr>\n",
       "    <tr>\n",
       "      <th>2</th>\n",
       "      <td>0.000000</td>\n",
       "    </tr>\n",
       "  </tbody>\n",
       "</table>\n",
       "</div>"
      ],
      "text/plain": [
       "          0\n",
       "0  0.833333\n",
       "1  0.166667\n",
       "2  0.000000"
      ]
     },
     "execution_count": 52,
     "metadata": {},
     "output_type": "execute_result"
    }
   ],
   "source": [
    "roll_2.dot(init)"
   ]
  },
  {
   "cell_type": "code",
   "execution_count": 53,
   "metadata": {},
   "outputs": [],
   "source": [
    "def matrix_power(m, n):\n",
    "    result = m\n",
    "    for _ in range(n-1):\n",
    "        result = result.dot(m)\n",
    "    return result"
   ]
  },
  {
   "cell_type": "code",
   "execution_count": 54,
   "metadata": {},
   "outputs": [
    {
     "data": {
      "text/html": [
       "<div>\n",
       "<style scoped>\n",
       "    .dataframe tbody tr th:only-of-type {\n",
       "        vertical-align: middle;\n",
       "    }\n",
       "\n",
       "    .dataframe tbody tr th {\n",
       "        vertical-align: top;\n",
       "    }\n",
       "\n",
       "    .dataframe thead th {\n",
       "        text-align: right;\n",
       "    }\n",
       "</style>\n",
       "<table border=\"1\" class=\"dataframe\">\n",
       "  <thead>\n",
       "    <tr style=\"text-align: right;\">\n",
       "      <th></th>\n",
       "      <th>0</th>\n",
       "      <th>1</th>\n",
       "      <th>2</th>\n",
       "    </tr>\n",
       "  </thead>\n",
       "  <tbody>\n",
       "    <tr>\n",
       "      <th>0</th>\n",
       "      <td>0.482253</td>\n",
       "      <td>0.000000</td>\n",
       "      <td>0.0</td>\n",
       "    </tr>\n",
       "    <tr>\n",
       "      <th>1</th>\n",
       "      <td>0.385802</td>\n",
       "      <td>0.482253</td>\n",
       "      <td>0.0</td>\n",
       "    </tr>\n",
       "    <tr>\n",
       "      <th>2</th>\n",
       "      <td>0.131944</td>\n",
       "      <td>0.517747</td>\n",
       "      <td>1.0</td>\n",
       "    </tr>\n",
       "  </tbody>\n",
       "</table>\n",
       "</div>"
      ],
      "text/plain": [
       "          0         1    2\n",
       "0  0.482253  0.000000  0.0\n",
       "1  0.385802  0.482253  0.0\n",
       "2  0.131944  0.517747  1.0"
      ]
     },
     "execution_count": 54,
     "metadata": {},
     "output_type": "execute_result"
    }
   ],
   "source": [
    "matrix_power(roll_2, 4)"
   ]
  },
  {
   "cell_type": "markdown",
   "metadata": {},
   "source": [
    "The probability of being in each state after 4 rolls of a die."
   ]
  },
  {
   "cell_type": "code",
   "execution_count": 55,
   "metadata": {},
   "outputs": [
    {
     "data": {
      "text/html": [
       "<div>\n",
       "<style scoped>\n",
       "    .dataframe tbody tr th:only-of-type {\n",
       "        vertical-align: middle;\n",
       "    }\n",
       "\n",
       "    .dataframe tbody tr th {\n",
       "        vertical-align: top;\n",
       "    }\n",
       "\n",
       "    .dataframe thead th {\n",
       "        text-align: right;\n",
       "    }\n",
       "</style>\n",
       "<table border=\"1\" class=\"dataframe\">\n",
       "  <thead>\n",
       "    <tr style=\"text-align: right;\">\n",
       "      <th></th>\n",
       "      <th>0</th>\n",
       "    </tr>\n",
       "  </thead>\n",
       "  <tbody>\n",
       "    <tr>\n",
       "      <th>0</th>\n",
       "      <td>0.482253</td>\n",
       "    </tr>\n",
       "    <tr>\n",
       "      <th>1</th>\n",
       "      <td>0.385802</td>\n",
       "    </tr>\n",
       "    <tr>\n",
       "      <th>2</th>\n",
       "      <td>0.131944</td>\n",
       "    </tr>\n",
       "  </tbody>\n",
       "</table>\n",
       "</div>"
      ],
      "text/plain": [
       "          0\n",
       "0  0.482253\n",
       "1  0.385802\n",
       "2  0.131944"
      ]
     },
     "execution_count": 55,
     "metadata": {},
     "output_type": "execute_result"
    }
   ],
   "source": [
    "matrix_power(roll_2, 4).dot(init)"
   ]
  },
  {
   "cell_type": "markdown",
   "metadata": {},
   "source": [
    "So, the probability of rolling a $2$ with four dices is $0.131944$."
   ]
  },
  {
   "cell_type": "markdown",
   "metadata": {},
   "source": [
    "We can come up with similar models for each of the other points (3, 4, 5, 6,\n",
    "and 7) and note that by symmetry the points, $N$, above 7 are identical to the\n",
    "models for $7 - N$.\n",
    "\n",
    "# Roll 3\n",
    "\n",
    "Looking for (1, 2)."
   ]
  },
  {
   "cell_type": "markdown",
   "metadata": {},
   "source": [
    "<img src=\"./images/roll-3.png\" width=\"200\">"
   ]
  },
  {
   "cell_type": "code",
   "execution_count": 56,
   "metadata": {},
   "outputs": [
    {
     "name": "stdout",
     "output_type": "stream",
     "text": [
      "          0         1  2\n",
      "0  0.666667  0.000000  0\n",
      "1  0.333333  0.833333  0\n",
      "2  0.000000  0.166667  1\n",
      "          0\n",
      "0  0.197531\n",
      "1  0.569444\n",
      "2  0.233025\n"
     ]
    }
   ],
   "source": [
    "roll_3 = df(((4/6, 0, 0), (2/6, 5/6, 0), (0, 1/6, 1)))\n",
    "print(roll_3)\n",
    "print(matrix_power(roll_3, 4).dot(init))"
   ]
  },
  {
   "cell_type": "markdown",
   "metadata": {},
   "source": [
    "# Roll 4\n",
    "\n",
    "Looking for (1, 3) or (2, 2).\n",
    "\n",
    "<img src=\"./images/roll-4.png\" width=\"300\">"
   ]
  },
  {
   "cell_type": "code",
   "execution_count": 60,
   "metadata": {},
   "outputs": [
    {
     "name": "stdout",
     "output_type": "stream",
     "text": [
      "          0         1         2         3  4\n",
      "0  0.500000  0.000000  0.000000  0.000000  0\n",
      "1  0.333333  0.666667  0.000000  0.000000  0\n",
      "2  0.166667  0.000000  0.500000  0.000000  0\n",
      "3  0.000000  0.166667  0.333333  0.666667  0\n",
      "4  0.000000  0.166667  0.166667  0.333333  1\n",
      "0    0.062500\n",
      "1    0.270062\n",
      "2    0.083333\n",
      "3    0.228395\n",
      "4    0.355710\n",
      "dtype: float64\n"
     ]
    }
   ],
   "source": [
    "roll_4 = df((\n",
    "    (3/6, 0, 0, 0, 0),\n",
    "    (2/6, 4/6, 0, 0, 0),\n",
    "    (1/6, 0, 3/6, 0, 0),\n",
    "    (0, 1/6, 2/6, 4/6, 0),\n",
    "    (0, 1/6, 1/6, 2/6, 1)))\n",
    "print(roll_4)\n",
    "print(matrix_power(roll_4, 4).dot((1, 0, 0, 0, 0)))"
   ]
  },
  {
   "cell_type": "markdown",
   "metadata": {},
   "source": [
    "# Roll 5\n",
    "\n",
    "Looking for (1, 4) or (2, 3)."
   ]
  },
  {
   "cell_type": "markdown",
   "metadata": {},
   "source": []
  }
 ],
 "metadata": {
  "kernelspec": {
   "display_name": "Python 3.8.9 ('.env': venv)",
   "language": "python",
   "name": "python3"
  },
  "language_info": {
   "codemirror_mode": {
    "name": "ipython",
    "version": 3
   },
   "file_extension": ".py",
   "mimetype": "text/x-python",
   "name": "python",
   "nbconvert_exporter": "python",
   "pygments_lexer": "ipython3",
   "version": "3.8.9"
  },
  "orig_nbformat": 4,
  "vscode": {
   "interpreter": {
    "hash": "c37b1629e471923b9801f7ad8b0b59ee231fda63ef3eb1be62e41f13dbcecc12"
   }
  }
 },
 "nbformat": 4,
 "nbformat_minor": 2
}

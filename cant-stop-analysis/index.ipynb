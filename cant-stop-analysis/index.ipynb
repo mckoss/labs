{
 "cells": [
  {
   "cell_type": "markdown",
   "metadata": {},
   "source": [
    "# *Can't Stop* - Analysis\n",
    "\n",
    "The board game *Can't Stop* allows users to roll 4 dice, and then choose\n",
    "how to group them into two pairs.  The sum of each pair of dice are then\n",
    "used as the \"point\" values which the user can advance one of his (up to\n",
    "3) markers.\n",
    "\n",
    "In each turn, a user may roll the dice as many times as they like - but they\n",
    "must be able to advance one of their markers on each roll, otherwise they \"crap out\".\n",
    "\n",
    "# Basic Questions\n",
    "\n",
    "- What is the probability of rolling any particular point value (from 2 to 12) for\n",
    "  any roll of 4 dice?\n",
    "- What is the probability of \"crapping out\" for any particular set of 3 available point\n",
    "  values?\n",
    "  \n",
    "  \n",
    "Perhaps the most straightforward way to answer these questions is by exhastive simulation\n",
    "of 4 dice rolls (which only require $6^4 = 1296$ rolls)."
   ]
  },
  {
   "cell_type": "code",
   "execution_count": 1,
   "metadata": {},
   "outputs": [],
   "source": [
    "from itertools import product"
   ]
  },
  {
   "cell_type": "code",
   "execution_count": 2,
   "metadata": {},
   "outputs": [
    {
     "data": {
      "text/plain": [
       "1296"
      ]
     },
     "execution_count": 2,
     "metadata": {},
     "output_type": "execute_result"
    }
   ],
   "source": [
    "dice = (1,2,3,4,5,6)\n",
    "all_rolls = list(product(dice, dice, dice, dice))\n",
    "len(all_rolls)"
   ]
  },
  {
   "cell_type": "code",
   "execution_count": 3,
   "metadata": {},
   "outputs": [],
   "source": [
    "def points(dice):\n",
    "    \"\"\" Return set of point values that can be derived from a given (a pair of dice)\n",
    "        in a roll of the dice.\n",
    "    \"\"\"\n",
    "    result = set()\n",
    "    num_dice = len(dice)\n",
    "    for first in range(num_dice):\n",
    "        for second in range(first+1, num_dice):\n",
    "            result.add(dice[first] + dice[second])\n",
    "            \n",
    "    return result"
   ]
  },
  {
   "cell_type": "code",
   "execution_count": 4,
   "metadata": {},
   "outputs": [],
   "source": [
    "all_points = [points(x) for x in all_rolls]"
   ]
  },
  {
   "cell_type": "code",
   "execution_count": 5,
   "metadata": {},
   "outputs": [],
   "source": [
    "def prob_point(p):\n",
    "    c = 0\n",
    "    for points in all_points:\n",
    "        if p in points:\n",
    "            c += 1\n",
    "    return c / len(all_points)"
   ]
  },
  {
   "cell_type": "code",
   "execution_count": 6,
   "metadata": {},
   "outputs": [
    {
     "name": "stdout",
     "output_type": "stream",
     "text": [
      " 2: 13%\n",
      " 3: 23%\n",
      " 4: 36%\n",
      " 5: 45%\n",
      " 6: 56%\n",
      " 7: 64%\n",
      " 8: 56%\n",
      " 9: 45%\n",
      "10: 36%\n",
      "11: 23%\n",
      "12: 13%\n"
     ]
    }
   ],
   "source": [
    "for p in range(2, 13):\n",
    "    print(f\"{p:2d}: {prob_point(p):.0%}\")"
   ]
  },
  {
   "cell_type": "markdown",
   "metadata": {},
   "source": [
    "# Balance\n",
    "\n",
    "We can now answer how well balanced *Can't Stop* is.  To *capture* the 2 point\n",
    "you need to book 3 twos.  Then 5 threes, 7 fours, etc:\n",
    "\n",
    "| Point | # Needed |\n",
    "| --- | --- |\n",
    "| 2 | 3 |\n",
    "| 3 | 5 |\n",
    "| 4 | 7 |\n",
    "| 5 | 9 |\n",
    "| 6 | 11 |\n",
    "| 7 | 13 |\n",
    "| 8 | 11 |\n",
    "| 9 | 9 |\n",
    "| 10 | 7 |\n",
    "| 11 | 5 |\n",
    "| 12 | 3 |\n",
    "\n",
    "If we divide the number of rolls needed by the probability of getting a specific point,\n",
    "that will give us the expected number of rolls to capture each point.\n"
   ]
  },
  {
   "cell_type": "code",
   "execution_count": 7,
   "metadata": {},
   "outputs": [
    {
     "name": "stdout",
     "output_type": "stream",
     "text": [
      "Point  2 needs  3: expected in 22.7 rolls\n",
      "Point  3 needs  5: expected in 21.5 rolls\n",
      "Point  4 needs  7: expected in 19.7 rolls\n",
      "Point  5 needs  9: expected in 20.1 rolls\n",
      "Point  6 needs 11: expected in 19.6 rolls\n",
      "Point  7 needs 13: expected in 20.2 rolls\n",
      "Point  8 needs 11: expected in 19.6 rolls\n",
      "Point  9 needs  9: expected in 20.1 rolls\n",
      "Point 10 needs  7: expected in 19.7 rolls\n",
      "Point 11 needs  5: expected in 21.5 rolls\n",
      "Point 12 needs  3: expected in 22.7 rolls\n"
     ]
    }
   ],
   "source": [
    "for p in range(2, 13):\n",
    "    needed = 13 - 2 * abs(7 - p)\n",
    "    print(f\"Point {p:2d} needs {needed:2d}: expected in {needed/prob_point(p):.1f} rolls\")"
   ]
  },
  {
   "cell_type": "markdown",
   "metadata": {},
   "source": [
    "\n",
    "# Point Sets\n",
    "\n",
    "While realizing that you're 64% chance of rolling a 7, it's more\n",
    "useful strategically to know how likely you are to \"crap out\" once\n",
    "you've already established the 3 point's you're working toward."
   ]
  },
  {
   "cell_type": "code",
   "execution_count": 8,
   "metadata": {},
   "outputs": [
    {
     "ename": "NameError",
     "evalue": "name 'combinations' is not defined",
     "output_type": "error",
     "traceback": [
      "\u001b[0;31m---------------------------------------------------------------------------\u001b[0m",
      "\u001b[0;31mNameError\u001b[0m                                 Traceback (most recent call last)",
      "Cell \u001b[0;32mIn [8], line 1\u001b[0m\n\u001b[0;32m----> 1\u001b[0m point_sets \u001b[38;5;241m=\u001b[39m \u001b[38;5;28mlist\u001b[39m(\u001b[43mcombinations\u001b[49m(\u001b[38;5;28mrange\u001b[39m(\u001b[38;5;241m2\u001b[39m, \u001b[38;5;241m13\u001b[39m), \u001b[38;5;241m3\u001b[39m))\n",
      "\u001b[0;31mNameError\u001b[0m: name 'combinations' is not defined"
     ]
    }
   ],
   "source": [
    "point_sets = list(combinations(range(2, 13), 3))"
   ]
  },
  {
   "cell_type": "code",
   "execution_count": null,
   "metadata": {},
   "outputs": [],
   "source": [
    "def prob_point_set(ps):\n",
    "    c = 0\n",
    "    for points in all_points:\n",
    "        for pts in ps:\n",
    "            if pts in points:\n",
    "                c += 1\n",
    "                break;\n",
    "    return c / len(all_points)\n",
    "        "
   ]
  },
  {
   "cell_type": "code",
   "execution_count": null,
   "metadata": {},
   "outputs": [
    {
     "data": {
      "text/plain": [
       "0.9197530864197531"
      ]
     },
     "execution_count": 94,
     "metadata": {},
     "output_type": "execute_result"
    }
   ],
   "source": [
    "prob_point_set([6, 7, 8])"
   ]
  },
  {
   "cell_type": "code",
   "execution_count": null,
   "metadata": {},
   "outputs": [
    {
     "name": "stdout",
     "output_type": "stream",
     "text": [
      "      (2, 3, 4): 52% \n",
      "      (2, 3, 5): 58% \n",
      "      (2, 3, 6): 68% \n",
      "      (2, 3, 7): 75% \n",
      "      (2, 3, 8): 76% \n",
      "      (2, 3, 9): 71% \n",
      "     (2, 3, 10): 63% \n",
      "     (2, 3, 11): 53% \n",
      "     (2, 3, 12): 44% \n",
      "      (2, 4, 5): 66% \n",
      "      (2, 4, 6): 76% \n",
      "      (2, 4, 7): 81% \n",
      "      (2, 4, 8): 82% \n",
      "      (2, 4, 9): 76% \n",
      "     (2, 4, 10): 74% \n",
      "     (2, 4, 11): 63% \n",
      "     (2, 4, 12): 55% \n",
      "      (2, 5, 6): 77% \n",
      "      (2, 5, 7): 81% \n",
      "      (2, 5, 8): 83% \n",
      "      (2, 5, 9): 76% \n",
      "     (2, 5, 10): 76% \n",
      "     (2, 5, 11): 71% \n",
      "     (2, 5, 12): 63% \n",
      "      (2, 6, 7): 86% \n",
      "      (2, 6, 8): 88% \n",
      "      (2, 6, 9): 83% \n",
      "     (2, 6, 10): 81% \n",
      "     (2, 6, 11): 76% \n",
      "     (2, 6, 12): 74% \n",
      "      (2, 7, 8): 89% \n",
      "      (2, 7, 9): 84% \n",
      "     (2, 7, 10): 83% \n",
      "     (2, 7, 11): 78% \n",
      "     (2, 7, 12): 78% \n",
      "      (2, 8, 9): 82% \n",
      "     (2, 8, 10): 82% \n",
      "     (2, 8, 11): 74% \n",
      "     (2, 8, 12): 74% \n",
      "     (2, 9, 10): 71% \n",
      "     (2, 9, 11): 64% \n",
      "     (2, 9, 12): 63% \n",
      "    (2, 10, 11): 58% \n",
      "    (2, 10, 12): 55% \n",
      "    (2, 11, 12): 44% \n",
      "      (3, 4, 5): 67% \n",
      "      (3, 4, 6): 74% \n",
      "      (3, 4, 7): 79% \n",
      "      (3, 4, 8): 80% \n",
      "      (3, 4, 9): 78% \n",
      "     (3, 4, 10): 76% \n",
      "     (3, 4, 11): 66% \n",
      "     (3, 4, 12): 58% \n",
      "      (3, 5, 6): 77% \n",
      "      (3, 5, 7): 79% \n",
      "      (3, 5, 8): 81% \n",
      "      (3, 5, 9): 78% \n",
      "     (3, 5, 10): 76% \n",
      "     (3, 5, 11): 71% \n",
      "     (3, 5, 12): 64% \n",
      "      (3, 6, 7): 86% \n",
      "      (3, 6, 8): 85% \n",
      "      (3, 6, 9): 83% \n",
      "     (3, 6, 10): 82% \n",
      "     (3, 6, 11): 76% \n",
      "     (3, 6, 12): 74% \n",
      "      (3, 7, 8): 89% \n",
      "      (3, 7, 9): 84% \n",
      "     (3, 7, 10): 84% \n",
      "     (3, 7, 11): 78% \n",
      "     (3, 7, 12): 78% \n",
      "      (3, 8, 9): 84% \n",
      "     (3, 8, 10): 83% \n",
      "     (3, 8, 11): 76% \n",
      "     (3, 8, 12): 76% \n",
      "     (3, 9, 10): 78% \n",
      "     (3, 9, 11): 71% \n",
      "     (3, 9, 12): 71% \n",
      "    (3, 10, 11): 66% \n",
      "    (3, 10, 12): 63% \n",
      "    (3, 11, 12): 53% \n",
      "      (4, 5, 6): 80% \n",
      "      (4, 5, 7): 85% \n",
      "      (4, 5, 8): 85% \n",
      "      (4, 5, 9): 80% \n",
      "     (4, 5, 10): 82% \n",
      "     (4, 5, 11): 78% \n",
      "     (4, 5, 12): 71% \n",
      "      (4, 6, 7): 89% \n",
      "      (4, 6, 8): 91% \n",
      "      (4, 6, 9): 86% \n",
      "     (4, 6, 10): 88% \n",
      "     (4, 6, 11): 83% \n",
      "     (4, 6, 12): 82% \n",
      "      (4, 7, 8): 90% \n",
      "      (4, 7, 9): 89% \n",
      "     (4, 7, 10): 88% \n",
      "     (4, 7, 11): 84% \n",
      "     (4, 7, 12): 83% \n",
      "      (4, 8, 9): 86% \n",
      "     (4, 8, 10): 88% \n",
      "     (4, 8, 11): 82% \n",
      "     (4, 8, 12): 81% \n",
      "     (4, 9, 10): 82% \n",
      "     (4, 9, 11): 76% \n",
      "     (4, 9, 12): 76% \n",
      "    (4, 10, 11): 76% \n",
      "    (4, 10, 12): 74% \n",
      "    (4, 11, 12): 63% \n",
      "      (5, 6, 7): 89% \n",
      "      (5, 6, 8): 90% \n",
      "      (5, 6, 9): 87% \n",
      "     (5, 6, 10): 86% \n",
      "     (5, 6, 11): 84% \n",
      "     (5, 6, 12): 82% \n",
      "      (5, 7, 8): 91% \n",
      "      (5, 7, 9): 85% \n",
      "     (5, 7, 10): 89% \n",
      "     (5, 7, 11): 84% \n",
      "     (5, 7, 12): 84% \n",
      "      (5, 8, 9): 87% \n",
      "     (5, 8, 10): 86% \n",
      "     (5, 8, 11): 83% \n",
      "     (5, 8, 12): 83% \n",
      "     (5, 9, 10): 80% \n",
      "     (5, 9, 11): 78% \n",
      "     (5, 9, 12): 76% \n",
      "    (5, 10, 11): 78% \n",
      "    (5, 10, 12): 76% \n",
      "    (5, 11, 12): 71% \n",
      "      (6, 7, 8): 92% \n",
      "      (6, 7, 9): 91% \n",
      "     (6, 7, 10): 90% \n",
      "     (6, 7, 11): 89% \n",
      "     (6, 7, 12): 89% \n",
      "      (6, 8, 9): 90% \n",
      "     (6, 8, 10): 91% \n",
      "     (6, 8, 11): 85% \n",
      "     (6, 8, 12): 88% \n",
      "     (6, 9, 10): 85% \n",
      "     (6, 9, 11): 81% \n",
      "     (6, 9, 12): 83% \n",
      "    (6, 10, 11): 80% \n",
      "    (6, 10, 12): 82% \n",
      "    (6, 11, 12): 76% \n",
      "      (7, 8, 9): 89% \n",
      "     (7, 8, 10): 89% \n",
      "     (7, 8, 11): 86% \n",
      "     (7, 8, 12): 86% \n",
      "     (7, 9, 10): 85% \n",
      "     (7, 9, 11): 79% \n",
      "     (7, 9, 12): 81% \n",
      "    (7, 10, 11): 79% \n",
      "    (7, 10, 12): 81% \n",
      "    (7, 11, 12): 75% \n",
      "     (8, 9, 10): 80% \n",
      "     (8, 9, 11): 77% \n",
      "     (8, 9, 12): 77% \n",
      "    (8, 10, 11): 74% \n",
      "    (8, 10, 12): 76% \n",
      "    (8, 11, 12): 68% \n",
      "    (9, 10, 11): 67% \n",
      "    (9, 10, 12): 66% \n",
      "    (9, 11, 12): 58% \n",
      "   (10, 11, 12): 52% \n"
     ]
    }
   ],
   "source": [
    "for ps in point_sets:\n",
    "    print(f\"{str(ps):>15s}: {prob_point_set(ps):.0%} \")"
   ]
  },
  {
   "cell_type": "markdown",
   "metadata": {},
   "source": [
    "# Strategy\n",
    "\n",
    "If you have the easiest triple, of (6,7,8), you have a nearly 92% chance of making a point\n",
    "(only an 8% chance of crapping out).  Given that once you have established your points, you've\n",
    "already made 3 or 4 units of progress, you expect to lose $8\\% \\times n$ units, but you stand to gain\n",
    "1 or 2 units by rolling again.  You maximize the expected gain when $92\\% \\times 1 > 8\\% \\times n$ (\n",
    "or $n < 12$)!\n",
    "\n",
    "On the other hand, if rolling on a (2, 3, 12), you have just 44% chance of making a point.  So you should\n",
    "roll when $44\\% > 64\\% \\times n$ (or $n < 0.6$)."
   ]
  },
  {
   "cell_type": "code",
   "execution_count": null,
   "metadata": {},
   "outputs": [
    {
     "name": "stdout",
     "output_type": "stream",
     "text": [
      "44% - roll when n < 1\n",
      "50% - roll when n < 1\n",
      "56% - roll when n < 1\n",
      "62% - roll when n < 2\n",
      "68% - roll when n < 2\n",
      "74% - roll when n < 3\n",
      "80% - roll when n < 4\n",
      "86% - roll when n < 6\n",
      "92% - roll when n < 12\n"
     ]
    }
   ],
   "source": [
    "for s in range(44, 93, 6):\n",
    "    p = s / 100\n",
    "    print(f\"{s}% - roll when n < {p/(1-p):1.0f}\")"
   ]
  },
  {
   "cell_type": "markdown",
   "metadata": {},
   "source": [
    "Alternately, only when $\\frac{p}{1-p} > 3$ should you ever continue rolling past the initial three points (i.e., $p > 0.75$).\n"
   ]
  },
  {
   "cell_type": "code",
   "execution_count": null,
   "metadata": {},
   "outputs": [
    {
     "name": "stdout",
     "output_type": "stream",
     "text": [
      "      (2, 3, 7): 75% - up to 3 at risk.\n",
      "      (2, 3, 8): 76% - up to 3 at risk.\n",
      "      (2, 4, 6): 76% - up to 3 at risk.\n",
      "      (2, 4, 7): 81% - up to 4 at risk.\n",
      "      (2, 4, 8): 82% - up to 4 at risk.\n",
      "      (2, 4, 9): 76% - up to 3 at risk.\n",
      "      (2, 5, 6): 77% - up to 3 at risk.\n",
      "      (2, 5, 7): 81% - up to 4 at risk.\n",
      "      (2, 5, 8): 83% - up to 5 at risk.\n",
      "      (2, 5, 9): 76% - up to 3 at risk.\n",
      "     (2, 5, 10): 76% - up to 3 at risk.\n",
      "      (2, 6, 7): 86% - up to 6 at risk.\n",
      "      (2, 6, 8): 88% - up to 8 at risk.\n",
      "      (2, 6, 9): 83% - up to 5 at risk.\n",
      "     (2, 6, 10): 81% - up to 4 at risk.\n",
      "     (2, 6, 11): 76% - up to 3 at risk.\n",
      "      (2, 7, 8): 89% - up to 8 at risk.\n",
      "      (2, 7, 9): 84% - up to 5 at risk.\n",
      "     (2, 7, 10): 83% - up to 5 at risk.\n",
      "     (2, 7, 11): 78% - up to 4 at risk.\n",
      "     (2, 7, 12): 78% - up to 4 at risk.\n",
      "      (2, 8, 9): 82% - up to 5 at risk.\n",
      "     (2, 8, 10): 82% - up to 4 at risk.\n",
      "      (3, 4, 7): 79% - up to 4 at risk.\n",
      "      (3, 4, 8): 80% - up to 4 at risk.\n",
      "      (3, 4, 9): 78% - up to 4 at risk.\n",
      "     (3, 4, 10): 76% - up to 3 at risk.\n",
      "      (3, 5, 6): 77% - up to 3 at risk.\n",
      "      (3, 5, 7): 79% - up to 4 at risk.\n",
      "      (3, 5, 8): 81% - up to 4 at risk.\n",
      "      (3, 5, 9): 78% - up to 3 at risk.\n",
      "     (3, 5, 10): 76% - up to 3 at risk.\n",
      "      (3, 6, 7): 86% - up to 6 at risk.\n",
      "      (3, 6, 8): 85% - up to 6 at risk.\n",
      "      (3, 6, 9): 83% - up to 5 at risk.\n",
      "     (3, 6, 10): 82% - up to 5 at risk.\n",
      "     (3, 6, 11): 76% - up to 3 at risk.\n",
      "      (3, 7, 8): 89% - up to 8 at risk.\n",
      "      (3, 7, 9): 84% - up to 5 at risk.\n",
      "     (3, 7, 10): 84% - up to 5 at risk.\n",
      "     (3, 7, 11): 78% - up to 3 at risk.\n",
      "     (3, 7, 12): 78% - up to 4 at risk.\n",
      "      (3, 8, 9): 84% - up to 5 at risk.\n",
      "     (3, 8, 10): 83% - up to 5 at risk.\n",
      "     (3, 8, 11): 76% - up to 3 at risk.\n",
      "     (3, 8, 12): 76% - up to 3 at risk.\n",
      "     (3, 9, 10): 78% - up to 4 at risk.\n",
      "      (4, 5, 6): 80% - up to 4 at risk.\n",
      "      (4, 5, 7): 85% - up to 6 at risk.\n",
      "      (4, 5, 8): 85% - up to 5 at risk.\n",
      "      (4, 5, 9): 80% - up to 4 at risk.\n",
      "     (4, 5, 10): 82% - up to 5 at risk.\n",
      "     (4, 5, 11): 78% - up to 4 at risk.\n",
      "      (4, 6, 7): 89% - up to 8 at risk.\n",
      "      (4, 6, 8): 91% - up to 10 at risk.\n",
      "      (4, 6, 9): 86% - up to 6 at risk.\n",
      "     (4, 6, 10): 88% - up to 8 at risk.\n",
      "     (4, 6, 11): 83% - up to 5 at risk.\n",
      "     (4, 6, 12): 82% - up to 4 at risk.\n",
      "      (4, 7, 8): 90% - up to 9 at risk.\n",
      "      (4, 7, 9): 89% - up to 8 at risk.\n",
      "     (4, 7, 10): 88% - up to 7 at risk.\n",
      "     (4, 7, 11): 84% - up to 5 at risk.\n",
      "     (4, 7, 12): 83% - up to 5 at risk.\n",
      "      (4, 8, 9): 86% - up to 6 at risk.\n",
      "     (4, 8, 10): 88% - up to 8 at risk.\n",
      "     (4, 8, 11): 82% - up to 5 at risk.\n",
      "     (4, 8, 12): 81% - up to 4 at risk.\n",
      "     (4, 9, 10): 82% - up to 5 at risk.\n",
      "     (4, 9, 11): 76% - up to 3 at risk.\n",
      "     (4, 9, 12): 76% - up to 3 at risk.\n",
      "    (4, 10, 11): 76% - up to 3 at risk.\n",
      "      (5, 6, 7): 89% - up to 8 at risk.\n",
      "      (5, 6, 8): 90% - up to 9 at risk.\n",
      "      (5, 6, 9): 87% - up to 6 at risk.\n",
      "     (5, 6, 10): 86% - up to 6 at risk.\n",
      "     (5, 6, 11): 84% - up to 5 at risk.\n",
      "     (5, 6, 12): 82% - up to 5 at risk.\n",
      "      (5, 7, 8): 91% - up to 11 at risk.\n",
      "      (5, 7, 9): 85% - up to 6 at risk.\n",
      "     (5, 7, 10): 89% - up to 8 at risk.\n",
      "     (5, 7, 11): 84% - up to 5 at risk.\n",
      "     (5, 7, 12): 84% - up to 5 at risk.\n",
      "      (5, 8, 9): 87% - up to 6 at risk.\n",
      "     (5, 8, 10): 86% - up to 6 at risk.\n",
      "     (5, 8, 11): 83% - up to 5 at risk.\n",
      "     (5, 8, 12): 83% - up to 5 at risk.\n",
      "     (5, 9, 10): 80% - up to 4 at risk.\n",
      "     (5, 9, 11): 78% - up to 3 at risk.\n",
      "     (5, 9, 12): 76% - up to 3 at risk.\n",
      "    (5, 10, 11): 78% - up to 4 at risk.\n",
      "    (5, 10, 12): 76% - up to 3 at risk.\n",
      "      (6, 7, 8): 92% - up to 11 at risk.\n",
      "      (6, 7, 9): 91% - up to 11 at risk.\n",
      "     (6, 7, 10): 90% - up to 9 at risk.\n",
      "     (6, 7, 11): 89% - up to 8 at risk.\n",
      "     (6, 7, 12): 89% - up to 8 at risk.\n",
      "      (6, 8, 9): 90% - up to 9 at risk.\n",
      "     (6, 8, 10): 91% - up to 10 at risk.\n",
      "     (6, 8, 11): 85% - up to 6 at risk.\n",
      "     (6, 8, 12): 88% - up to 8 at risk.\n",
      "     (6, 9, 10): 85% - up to 5 at risk.\n",
      "     (6, 9, 11): 81% - up to 4 at risk.\n",
      "     (6, 9, 12): 83% - up to 5 at risk.\n",
      "    (6, 10, 11): 80% - up to 4 at risk.\n",
      "    (6, 10, 12): 82% - up to 4 at risk.\n",
      "    (6, 11, 12): 76% - up to 3 at risk.\n",
      "      (7, 8, 9): 89% - up to 8 at risk.\n",
      "     (7, 8, 10): 89% - up to 8 at risk.\n",
      "     (7, 8, 11): 86% - up to 6 at risk.\n",
      "     (7, 8, 12): 86% - up to 6 at risk.\n",
      "     (7, 9, 10): 85% - up to 6 at risk.\n",
      "     (7, 9, 11): 79% - up to 4 at risk.\n",
      "     (7, 9, 12): 81% - up to 4 at risk.\n",
      "    (7, 10, 11): 79% - up to 4 at risk.\n",
      "    (7, 10, 12): 81% - up to 4 at risk.\n",
      "    (7, 11, 12): 75% - up to 3 at risk.\n",
      "     (8, 9, 10): 80% - up to 4 at risk.\n",
      "     (8, 9, 11): 77% - up to 3 at risk.\n",
      "     (8, 9, 12): 77% - up to 3 at risk.\n",
      "    (8, 10, 12): 76% - up to 3 at risk.\n"
     ]
    }
   ],
   "source": [
    "for ps in point_sets:\n",
    "    p = prob_point_set(ps)\n",
    "    n = p / (1 - p)\n",
    "    if p > 0.75:\n",
    "        print(f\"{str(ps):>15s}: {p:.0%} - up to {n:.0f} at risk.\")"
   ]
  },
  {
   "cell_type": "code",
   "execution_count": null,
   "metadata": {},
   "outputs": [],
   "source": []
  }
 ],
 "metadata": {
  "kernelspec": {
   "display_name": "Python 3 (ipykernel)",
   "language": "python",
   "name": "python3"
  },
  "language_info": {
   "codemirror_mode": {
    "name": "ipython",
    "version": 3
   },
   "file_extension": ".py",
   "mimetype": "text/x-python",
   "name": "python",
   "nbconvert_exporter": "python",
   "pygments_lexer": "ipython3",
   "version": "3.8.9"
  },
  "vscode": {
   "interpreter": {
    "hash": "c37b1629e471923b9801f7ad8b0b59ee231fda63ef3eb1be62e41f13dbcecc12"
   }
  }
 },
 "nbformat": 4,
 "nbformat_minor": 2
}
